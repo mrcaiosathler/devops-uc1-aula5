{
 "cells": [
  {
   "cell_type": "code",
   "execution_count": 1,
   "id": "674e1e35-ec47-47ee-b1bf-a2f60c4b3e55",
   "metadata": {},
   "outputs": [
    {
     "name": "stdout",
     "output_type": "stream",
     "text": [
      " Hello world from my first Terraforming\n"
     ]
    }
   ],
   "source": [
    "print(f' Hello world from my first Terraforming')"
   ]
  }
 ],
 "metadata": {
  "kernelspec": {
   "display_name": "Python 3 (ipykernel)",
   "language": "python",
   "name": "python3"
  },
  "language_info": {
   "codemirror_mode": {
    "name": "ipython",
    "version": 3
   },
   "file_extension": ".py",
   "mimetype": "text/x-python",
   "name": "python",
   "nbconvert_exporter": "python",
   "pygments_lexer": "ipython3",
   "version": "3.11.6"
  }
 },
 "nbformat": 4,
 "nbformat_minor": 5
}
