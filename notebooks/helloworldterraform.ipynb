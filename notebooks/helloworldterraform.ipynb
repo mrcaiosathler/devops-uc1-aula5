{
 "cells": [
  {
   "cell_type": "code",
   "execution_count": null,
   "id": "674e1e35-ec47-47ee-b1bf-a2f60c4b3e55",
   "metadata": {},
   "outputs": [],
   "source": [
    "print(f' Hello world from my first Terraforming')"
   ]
  }
 ],
 "metadata": {
  "kernelspec": {
   "display_name": "Python 3.10.5 64-bit",
   "language": "python",
   "name": "python3"
  },
  "language_info": {
   "codemirror_mode": {
    "name": "ipython",
    "version": 3
   },
   "file_extension": ".py",
   "mimetype": "text/x-python",
   "name": "python",
   "nbconvert_exporter": "python",
   "pygments_lexer": "ipython3",
   "version": "3.10.5"
  },
  "vscode": {
   "interpreter": {
    "hash": "369f2c481f4da34e4445cda3fffd2e751bd1c4d706f27375911949ba6bb62e1c"
   }
  }
 },
 "nbformat": 4,
 "nbformat_minor": 5
}
